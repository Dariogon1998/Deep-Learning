{
 "cells": [
  {
   "cell_type": "markdown",
   "metadata": {},
   "source": [
    "# Introduction to Python"
   ]
  },
  {
   "cell_type": "markdown",
   "metadata": {},
   "source": [
    "## Exercise 6 - Class 1\n",
    "\n",
    "Given the base class:\n",
    "```python\n",
    "class Variable:\n",
    "    def __init__(self, name):\n",
    "        self.name = name\n",
    "\n",
    "    def sample(self, size):\n",
    "        raise NotImplementedError()\n",
    "```\n",
    "\n",
    "Implement an inherited `Normal` class which outputs a list of normal samples [mu=0, sigma=1] by overriding the `Variable.sample` method.\n",
    "\n",
    "\n"
   ]
  },
  {
   "cell_type": "code",
   "execution_count": 3,
   "metadata": {},
   "outputs": [
    {
     "name": "stdout",
     "output_type": "stream",
     "text": [
      "[-1.586040408174669, 0.42928983918530367, 0.11235087918727428, -0.7704020794777962, -0.057843079763359104, 0.8308660543498454, -0.07822633509801465, 0.9765247473056573, -0.6240241272580269, 0.029524254458627906]\n"
     ]
    }
   ],
   "source": [
    "import random\n",
    "\n",
    "class Variable:\n",
    "    def __init__(self, name):\n",
    "        self.name = name\n",
    "\n",
    "    def sample(self, size):\n",
    "        raise NotImplementedError()\n",
    "        \n",
    "\n",
    "class Normal(Variable):\n",
    "    def __init__(self, name):\n",
    "        super().__init__(name)\n",
    "\n",
    "    def sample(self, size):\n",
    "        l = []\n",
    "        for i in range(size):\n",
    "            l.append(random.gauss(0,1))\n",
    "        print(l)\n",
    "\n",
    "\n",
    "def main():\n",
    "    n_points=10\n",
    "    \n",
    "    N=Normal('My Normal object')\n",
    "    \n",
    "    N.sample(n_points)\n",
    "    \n",
    "    \n",
    "        \n",
    "if __name__==\"__main__\":\n",
    "    main()\n",
    "        "
   ]
  },
  {
   "cell_type": "markdown",
   "metadata": {},
   "source": [
    "\n",
    "## Exercise 7 - Class 2\n",
    "\n",
    "Construct a class which constructs and evaluates a 1D polynomial model with the following API:\n",
    "- the class constructor must take the polynomial degree as argument.\n",
    "- implement a `set_parameters` and `get_parameters` methods to update the parameter list.\n",
    "- provide an `execute` method to access the polynomial prediction at a specific value in `x'."
   ]
  },
  {
   "cell_type": "code",
   "execution_count": 40,
   "metadata": {},
   "outputs": [
    {
     "name": "stdout",
     "output_type": "stream",
     "text": [
      "[1, 1, 1]\n",
      "1\n",
      "3\n",
      "7\n",
      "13\n",
      "21\n"
     ]
    }
   ],
   "source": [
    "class Polinomial:\n",
    "    def __init__(self, degree):\n",
    "        self.degree=degree\n",
    "        self.parameters=[]\n",
    "        for i in range(degree):\n",
    "            self.parameters.append(0)\n",
    "            \n",
    "    \n",
    "    def set_parameters(self, par):\n",
    "        self.parameters=par\n",
    "        \n",
    "    def get_parameters(self):\n",
    "        print(self.parameters)\n",
    "        \n",
    "    def execute(self,x):\n",
    "        ans=0\n",
    "        for n,i in enumerate(self.parameters):\n",
    "            ans+=i*(x**n)\n",
    "            \n",
    "        return ans\n",
    "        \n",
    "def main():\n",
    "    P=Polinomial(3)\n",
    "    P.set_parameters([1,1,1])\n",
    "    P.get_parameters()\n",
    "    \n",
    "    for i in range(5):\n",
    "        print(P.execute(i))\n",
    "        \n",
    "if __name__==\"__main__\":\n",
    "    main()\n",
    "         "
   ]
  }
 ],
 "metadata": {
  "kernelspec": {
   "display_name": "Python 3 (ipykernel)",
   "language": "python",
   "name": "python3"
  },
  "language_info": {
   "codemirror_mode": {
    "name": "ipython",
    "version": 3
   },
   "file_extension": ".py",
   "mimetype": "text/x-python",
   "name": "python",
   "nbconvert_exporter": "python",
   "pygments_lexer": "ipython3",
   "version": "3.10.8"
  }
 },
 "nbformat": 4,
 "nbformat_minor": 2
}
