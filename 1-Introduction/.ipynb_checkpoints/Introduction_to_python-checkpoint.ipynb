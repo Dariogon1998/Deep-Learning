{
 "cells": [
  {
   "cell_type": "markdown",
   "metadata": {},
   "source": [
    "# Introduction to python"
   ]
  },
  {
   "cell_type": "markdown",
   "metadata": {},
   "source": [
    "## Exercise 6 - Class 1\n",
    "\n",
    "Given the base class:\n",
    "```python\n",
    "class Variable:\n",
    "    def __init__(self, name):\n",
    "        self.name = name\n",
    "\n",
    "    def sample(self, size):\n",
    "        raise NotImplementedError()\n",
    "```\n",
    "\n",
    "Implement an inherited `Normal` class which outputs a list of normal samples [mu=0, sigma=1] by overriding the `Variable.sample` method.\n",
    "\n",
    "\n"
   ]
  },
  {
   "cell_type": "code",
   "execution_count": 18,
   "metadata": {},
   "outputs": [
    {
     "name": "stdout",
     "output_type": "stream",
     "text": [
      "[-0.21628745603857247, -1.12544062727389, -1.2806197472600467, -1.7895610571177247, -2.526081725894683, -0.13559015671345884, 1.4879686480129297, -0.42775190865390617, -0.8802804852598779, 1.157827881512455]\n"
     ]
    }
   ],
   "source": [
    "import random\n",
    "\n",
    "class Variable:\n",
    "    def __init__(self, name):\n",
    "        self.name = name\n",
    "\n",
    "    def sample(self, size):\n",
    "        raise NotImplementedError()\n",
    "        \n",
    "\n",
    "class Normal(Variable):\n",
    "    def __init__(self, name):\n",
    "        Variable.__init__(self, name)\n",
    "\n",
    "    def sample(self, size):\n",
    "        l = []\n",
    "        for i in range(size):\n",
    "            l.append(random.gauss(0,1))\n",
    "        print(l)\n",
    "\n",
    "\n",
    "def main():\n",
    "    n_points=10\n",
    "    \n",
    "    N=Normal('My Normal object')\n",
    "    \n",
    "    N.sample(n_points)\n",
    "    \n",
    "    \n",
    "        \n",
    "if __name__==\"__main__\":\n",
    "    main()\n",
    "        "
   ]
  },
  {
   "cell_type": "markdown",
   "metadata": {},
   "source": [
    "\n",
    "## Exercise 7 - Class 2\n",
    "\n",
    "Construct a class which constructs and evaluates a 1D polynomial model with the following API:\n",
    "- the class constructor must take the polynomial degree as argument.\n",
    "- implement a `set_parameters` and `get_parameters` methods to update the parameter list.\n",
    "- provide an `execute` method to access the polynomial prediction at a specific value in `x'."
   ]
  },
  {
   "cell_type": "code",
   "execution_count": 40,
   "metadata": {},
   "outputs": [
    {
     "name": "stdout",
     "output_type": "stream",
     "text": [
      "[1, 1, 1]\n",
      "1\n",
      "3\n",
      "7\n",
      "13\n",
      "21\n"
     ]
    }
   ],
   "source": [
    "class Polinomial:\n",
    "    def __init__(self, degree):\n",
    "        self.degree=degree\n",
    "        self.parameters=[]\n",
    "        for i in range(degree):\n",
    "            self.parameters.append(0)\n",
    "            \n",
    "    \n",
    "    def set_parameters(self, par):\n",
    "        self.parameters=par\n",
    "        \n",
    "    def get_parameters(self):\n",
    "        print(self.parameters)\n",
    "        \n",
    "    def execute(self,x):\n",
    "        ans=0\n",
    "        for n,i in enumerate(self.parameters):\n",
    "            ans+=i*(x**n)\n",
    "            \n",
    "        return ans\n",
    "        \n",
    "def main():\n",
    "    P=Polinomial(3)\n",
    "    P.set_parameters([1,1,1])\n",
    "    P.get_parameters()\n",
    "    \n",
    "    for i in range(5):\n",
    "        print(P.execute(i))\n",
    "        \n",
    "if __name__==\"__main__\":\n",
    "    main()\n",
    "         "
   ]
  }
 ],
 "metadata": {
  "kernelspec": {
   "display_name": "Python 3",
   "language": "python",
   "name": "python3"
  },
  "language_info": {
   "codemirror_mode": {
    "name": "ipython",
    "version": 3
   },
   "file_extension": ".py",
   "mimetype": "text/x-python",
   "name": "python",
   "nbconvert_exporter": "python",
   "pygments_lexer": "ipython3",
   "version": "3.7.4"
  }
 },
 "nbformat": 4,
 "nbformat_minor": 2
}
